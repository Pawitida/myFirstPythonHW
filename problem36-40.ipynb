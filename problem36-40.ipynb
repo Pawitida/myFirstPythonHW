{
 "cells": [
  {
   "cell_type": "markdown",
   "metadata": {},
   "source": [
    "# Python Practice Book 36-40"
   ]
  },
  {
   "cell_type": "markdown",
   "metadata": {},
   "source": [
    "### Pawitida Tapjirapat"
   ]
  },
  {
   "cell_type": "markdown",
   "metadata": {},
   "source": [
    "### Problem 36"
   ]
  },
  {
   "cell_type": "code",
   "execution_count": 1,
   "metadata": {},
   "outputs": [
    {
     "name": "stdout",
     "output_type": "stream",
     "text": [
      "I'm sure that the shells are seashore shells.\n",
      "So if she sells seashells on the seashore,\n",
      "The shells that she sells are seashells I'm sure.\n",
      "She sells seashells on the seashore;\n",
      "\n"
     ]
    }
   ],
   "source": [
    "def linecount(filename):\n",
    "    return len(open(filename).readlines())\n",
    "\n",
    "def reverse(filename):\n",
    "    line = open(filename).readlines()\n",
    "    print(''.join(line[::-1]))\n",
    "\n",
    "reverse('she.txt')"
   ]
  },
  {
   "cell_type": "markdown",
   "metadata": {},
   "source": [
    "### Problem 37"
   ]
  },
  {
   "cell_type": "code",
   "execution_count": 2,
   "metadata": {},
   "outputs": [
    {
     "name": "stdout",
     "output_type": "stream",
     "text": [
      ";erohsaes eht no sllehsaes slles ehS\n",
      ".erus m'I sllehsaes era slles ehs taht sllehs ehT\n",
      ",erohsaes eht no sllehsaes slles ehs fi oS\n",
      ".sllehs erohsaes era sllehs eht taht erus m'I\n"
     ]
    }
   ],
   "source": [
    "def reverse(filename):\n",
    "    line = open(filename).readlines()\n",
    "    for e in line:\n",
    "        print(e.strip()[::-1])\n",
    "\n",
    "reverse('she.txt')"
   ]
  },
  {
   "cell_type": "markdown",
   "metadata": {},
   "source": [
    "### Problem 38"
   ]
  },
  {
   "cell_type": "code",
   "execution_count": 3,
   "metadata": {},
   "outputs": [
    {
     "name": "stdout",
     "output_type": "stream",
     "text": [
      "head\n",
      "She sells seashells on the seashore;\n",
      "The shells that she sells are seashells I'm sure.\n",
      "So if she sells seashells on the seashore,\n",
      "I'm sure that the shells are seashore shells.\n",
      "\n",
      "\n",
      "tail\n",
      "She sells seashells on the seashore;\n",
      "The shells that she sells are seashells I'm sure.\n",
      "So if she sells seashells on the seashore,\n",
      "I'm sure that the shells are seashore shells.\n",
      "\n"
     ]
    }
   ],
   "source": [
    "print('head')\n",
    "line = open('she.txt').readlines()\n",
    "print(''.join(line[:10]))\n",
    "\n",
    "print('\\ntail')\n",
    "\n",
    "line = open('she.txt').readlines()\n",
    "print(''.join(line[-10:]))"
   ]
  },
  {
   "cell_type": "markdown",
   "metadata": {},
   "source": [
    "### Problem 39"
   ]
  },
  {
   "cell_type": "code",
   "execution_count": null,
   "metadata": {},
   "outputs": [],
   "source": [
    "import sys\n",
    "\n",
    "line = open(sys.argv[1]).readlines()\n",
    "for e in line :\n",
    "\tif sys.argv[2] in e :\n",
    "\t\tprint(e,end='')"
   ]
  },
  {
   "cell_type": "markdown",
   "metadata": {},
   "source": [
    "### Problem 40"
   ]
  },
  {
   "cell_type": "code",
   "execution_count": null,
   "metadata": {},
   "outputs": [],
   "source": [
    "import sys\n",
    "\n",
    "line = open(sys.argv[1]).readlines()\n",
    "for e in line:\n",
    "    e = e.strip()\n",
    "    while len(e) >= int(sys.argv[2]):\n",
    "        print(e[:int(sys.argv[2])])\n",
    "        e = e[int(sys.argv[2]):]\n",
    "        if len(e) < int(sys.argv[2]):\n",
    "            print(e)"
   ]
  },
  {
   "cell_type": "code",
   "execution_count": 7,
   "metadata": {},
   "outputs": [
    {
     "name": "stdout",
     "output_type": "stream",
     "text": [
      "12345\n",
      "67890\n",
      "1232\n"
     ]
    }
   ],
   "source": [
    "a = '12345678901232'\n",
    "while len(a) >= 5:\n",
    "    print(a[:5])\n",
    "    a = a[5:]\n",
    "if len(a) > 0:\n",
    "    print(a)"
   ]
  }
 ],
 "metadata": {
  "kernelspec": {
   "display_name": "Python 3",
   "language": "python",
   "name": "python3"
  },
  "language_info": {
   "codemirror_mode": {
    "name": "ipython",
    "version": 3
   },
   "file_extension": ".py",
   "mimetype": "text/x-python",
   "name": "python",
   "nbconvert_exporter": "python",
   "pygments_lexer": "ipython3",
   "version": "3.7.0"
  }
 },
 "nbformat": 4,
 "nbformat_minor": 2
}
